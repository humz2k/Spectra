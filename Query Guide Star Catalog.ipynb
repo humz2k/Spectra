{
 "cells": [
  {
   "cell_type": "code",
   "execution_count": null,
   "metadata": {},
   "outputs": [],
   "source": [
    "#Script to Query the guidestar catalog for the star at a specific RA and DEC\n",
    "#Charlie Willard\n",
    "#   Adapted from stepfluxcalsex.py written by Amanda Pagul"
   ]
  },
  {
   "cell_type": "code",
   "execution_count": 6,
   "metadata": {},
   "outputs": [],
   "source": [
    "import astropy.io\n",
    "from astropy.io import fits\n",
    "import requests\n",
    "\n",
    "# Get RA / Dec\n",
    "# star.ra is the RA of the local referance star in units of hour angles\n",
    "# star.dec is the DEC of the local referance star in degrees units of degrees\n",
    "\n",
    "#change the unit parameter if you are not using the afformentioned \n"
   ]
  },
  {
   "cell_type": "code",
   "execution_count": 9,
   "metadata": {},
   "outputs": [
    {
     "name": "stdout",
     "output_type": "stream",
     "text": [
      "b'Error : Cannot find table 0.'\n"
     ]
    }
   ],
   "source": [
    "# Querry guide star catalog2 with center coordinates\n",
    "\n",
    "ra_dec = '0h8m05.63s +14d50m23.3s'\n",
    "\n",
    "gsc2_query = 'http://gsss.stsci.edu/webservices/vo/CatalogSearch.aspx?'\n",
    "gsc2_query += 'RA='+ra_dec.split(' ')[0]\n",
    "gsc2_query += '&DEC='+ra_dec.split(' ')[1]\n",
    "gsc2_query += '&DSN=+&FORMAT=CSV&CAT=GSC241&SR=0.5&'\n",
    "gsc2_result = requests.get(gsc2_query)\n",
    "\n",
    "print(gsc2_result.content)\n",
    "\n",
    "## query table is now an ascii table that "
   ]
  },
  {
   "cell_type": "code",
   "execution_count": null,
   "metadata": {},
   "outputs": [],
   "source": []
  }
 ],
 "metadata": {
  "kernelspec": {
   "display_name": "Python 3 (ipykernel)",
   "language": "python",
   "name": "python3"
  },
  "language_info": {
   "codemirror_mode": {
    "name": "ipython",
    "version": 3
   },
   "file_extension": ".py",
   "mimetype": "text/x-python",
   "name": "python",
   "nbconvert_exporter": "python",
   "pygments_lexer": "ipython3",
   "version": "3.9.1"
  }
 },
 "nbformat": 4,
 "nbformat_minor": 4
}
