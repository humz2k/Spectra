{
 "cells": [
  {
   "cell_type": "code",
   "execution_count": null,
   "metadata": {},
   "outputs": [],
   "source": [
    "# Convert the text file into a usable format\n",
    "\n",
    "path = '/Users/charliewillard/Desktop/Astro_Python/'\n",
    "with open(path+'HD157214.txt') as csvfile:\n",
    "    \n",
    "    read = csv.reader(csvfile, delimiter=' ')\n",
    "    data_rows = []\n",
    "    \n",
    "    #Skip the first two rows of header\n",
    "    for i, row in enumerate(read):\n",
    "        if i > 3:\n",
    "            data_rows.append(row)"
   ]
  },
  {
   "cell_type": "code",
   "execution_count": null,
   "metadata": {},
   "outputs": [],
   "source": [
    "#Extract the x and y data from the table\n",
    "#Rescale the spectra by our calculate A_star Constant\n",
    "\n",
    "y = []\n",
    "x = []\n",
    "\n",
    "#read in the x and y information from the table\n",
    "for r in data_rows:\n",
    "    wavelength = float(r[2])\n",
    "    flux = float(r[4])\n",
    "    x.append(wavelength)\n",
    "    y.append(flux)\n",
    "\n",
    "x =  A_star * np.array(x)\n",
    "y = np.array(y)"
   ]
  },
  {
   "cell_type": "code",
   "execution_count": null,
   "metadata": {},
   "outputs": [],
   "source": [
    "# Print the plot and save it as a pdf\n",
    "\n",
    "plt.plot(x, y)\n",
    "plt.ylabel('$f_\\lambda$ (erg s$^{-1}$ cm$^{-2}$ $\\AA^{-1}$)')\n",
    "plt.xlabel('Wavelength ($\\AA$)')\n",
    "plt.savefig('/Users/charliewillard/Desktop/Astro_Python/stellar_spectrum.pdf')\n",
    "plt.show()"
   ]
  }
 ],
 "metadata": {
  "kernelspec": {
   "display_name": "Python 3 (ipykernel)",
   "language": "python",
   "name": "python3"
  },
  "language_info": {
   "codemirror_mode": {
    "name": "ipython",
    "version": 3
   },
   "file_extension": ".py",
   "mimetype": "text/x-python",
   "name": "python",
   "nbconvert_exporter": "python",
   "pygments_lexer": "ipython3",
   "version": "3.9.1"
  }
 },
 "nbformat": 4,
 "nbformat_minor": 4
}
