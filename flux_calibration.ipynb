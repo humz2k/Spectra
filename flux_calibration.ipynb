{
 "cells": [
  {
   "cell_type": "code",
   "execution_count": 1,
   "id": "a4d52c30",
   "metadata": {},
   "outputs": [],
   "source": [
    "from astroquery.sdss import SDSS\n",
    "from astropy import coordinates as coords\n",
    "import numpy as np\n",
    "import matplotlib.pyplot as plt"
   ]
  },
  {
   "cell_type": "code",
   "execution_count": 2,
   "id": "7d7ce62c",
   "metadata": {},
   "outputs": [],
   "source": [
    "pos = coords.SkyCoord('0h8m05.63s +14d50m23.3s', frame='icrs')\n",
    "\n",
    "xid = SDSS.query_region(pos, spectro=True)\n",
    "\n",
    "sp = SDSS.get_spectra(matches=xid)"
   ]
  },
  {
   "cell_type": "code",
   "execution_count": 16,
   "id": "6508fe59",
   "metadata": {},
   "outputs": [
    {
     "name": "stdout",
     "output_type": "stream",
     "text": [
      "Filename: (No file associated with this HDUList)\n",
      "No.    Name      Ver    Type      Cards   Dimensions   Format\n",
      "  0  PRIMARY       1 PrimaryHDU     139   ()      \n",
      "  1  COADD         1 BinTableHDU     26   3841R x 8C   ['E', 'E', 'E', 'J', 'J', 'E', 'E', 'E']   \n",
      "  2  SPECOBJ       1 BinTableHDU    262   1R x 126C   [6A, 4A, 16A, 23A, 16A, 8A, E, E, E, J, E, E, J, B, B, B, B, B, B, J, 22A, 19A, 19A, 22A, 19A, I, 3A, 3A, 1A, J, D, D, D, E, E, 19A, 8A, J, J, J, J, K, K, J, J, J, J, J, J, K, K, K, K, I, J, J, J, J, 5J, D, D, 6A, 21A, E, E, E, J, E, 24A, 10J, J, 10E, E, E, E, E, E, E, J, E, E, E, J, E, 5E, E, 10E, 10E, 10E, 5E, 5E, 5E, 5E, 5E, J, J, E, E, E, E, E, E, 25A, 21A, 10A, E, E, E, E, E, E, E, E, J, E, E, J, 1A, 1A, E, E, J, J, 1A, 5E, 5E]   \n",
      "  3  SPZLINE       1 BinTableHDU     48   29R x 19C   [J, J, J, 13A, D, E, E, E, E, E, E, E, E, E, E, J, J, E, E]   \n",
      "  4  B1-00012103-00012101-00012102    1 BinTableHDU    146   2044R x 7C   [E, E, E, J, E, E, E]   \n",
      "  5  B1-00012104-00012101-00012102    1 BinTableHDU    146   2044R x 7C   [E, E, E, J, E, E, E]   \n",
      "  6  B1-00012105-00012101-00012102    1 BinTableHDU    146   2044R x 7C   [E, E, E, J, E, E, E]   \n",
      "  7  R1-00012103-00012101-00012102    1 BinTableHDU    146   2046R x 7C   [E, E, E, J, E, E, E]   \n",
      "  8  R1-00012104-00012101-00012102    1 BinTableHDU    146   2046R x 7C   [E, E, E, J, E, E, E]   \n",
      "  9  R1-00012105-00012101-00012102    1 BinTableHDU    146   2046R x 7C   [E, E, E, J, E, E, E]   \n",
      "None\n"
     ]
    }
   ],
   "source": [
    "reference_star = sp[0]\n",
    "print(reference_star.info())"
   ]
  },
  {
   "cell_type": "code",
   "execution_count": 56,
   "id": "0c88fba3",
   "metadata": {},
   "outputs": [
    {
     "name": "stdout",
     "output_type": "stream",
     "text": [
      "(30.596626, 3.5797, 0.06440803, 0, 0, 1.2189666, 8.154254, 36.077015)\n",
      "3.5797\n",
      "30.596626\n"
     ]
    }
   ],
   "source": [
    "x = 10.**reference_star[1].data['loglam']\n",
    "y = reference_star[1].data['flux']"
   ]
  },
  {
   "cell_type": "code",
   "execution_count": 5,
   "id": "cbeb8cf9",
   "metadata": {},
   "outputs": [
    {
     "data": {
      "image/png": "[encoded data removed]",
      "text/plain": [
       "<Figure size 432x288 with 1 Axes>"
      ]
     },
     "metadata": {
      "needs_background": "light"
     },
     "output_type": "display_data"
    }
   ],
   "source": [
    "plt.plot(x,y)\n",
    "plt.xlabel('Wavelength')\n",
    "plt.ylabel('Flux')\n",
    "plt.show()"
   ]
  },
  {
   "cell_type": "code",
   "execution_count": null,
   "id": "b60c6149",
   "metadata": {},
   "outputs": [],
   "source": [
    "a_star = "
   ]
  },
  {
   "cell_type": "code",
   "execution_count": null,
   "id": "f30866f4",
   "metadata": {},
   "outputs": [],
   "source": []
  },
  {
   "cell_type": "code",
   "execution_count": null,
   "id": "7fd5207d",
   "metadata": {},
   "outputs": [],
   "source": []
  }
 ],
 "metadata": {
  "kernelspec": {
   "display_name": "Python 3 (ipykernel)",
   "language": "python",
   "name": "python3"
  },
  "language_info": {
   "codemirror_mode": {
    "name": "ipython",
    "version": 3
   },
   "file_extension": ".py",
   "mimetype": "text/x-python",
   "name": "python",
   "nbconvert_exporter": "python",
   "pygments_lexer": "ipython3",
   "version": "3.9.1"
  }
 },
 "nbformat": 4,
 "nbformat_minor": 5
}
